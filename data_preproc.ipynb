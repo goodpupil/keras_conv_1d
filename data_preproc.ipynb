{
 "cells": [
  {
   "cell_type": "code",
   "execution_count": 1,
   "metadata": {
    "collapsed": true
   },
   "outputs": [],
   "source": [
    "import os\n",
    "import pandas as pd"
   ]
  },
  {
   "cell_type": "code",
   "execution_count": 54,
   "metadata": {
    "collapsed": false
   },
   "outputs": [
    {
     "ename": "SyntaxError",
     "evalue": "invalid syntax (<ipython-input-54-0e54d2673b85>, line 21)",
     "output_type": "error",
     "traceback": [
      "\u001b[0;36m  File \u001b[0;32m\"<ipython-input-54-0e54d2673b85>\"\u001b[0;36m, line \u001b[0;32m21\u001b[0m\n\u001b[0;31m    if obj isinstance(pd.Series) or obj isinstance(pd.DataFrame):\u001b[0m\n\u001b[0m                    ^\u001b[0m\n\u001b[0;31mSyntaxError\u001b[0m\u001b[0;31m:\u001b[0m invalid syntax\n"
     ]
    }
   ],
   "source": [
    "class PreProc:\n",
    "    \n",
    "    def __init__(self, input_dir, pred_energy):\n",
    "        self.input_dir = input_dir\n",
    "        self.pred_energy = pred_energy\n",
    "    \n",
    "    def set_train_test_files(self, train_file, test_file):\n",
    "        self.train_file = train_file\n",
    "        self.test_file = test_file\n",
    "        \n",
    "    def get_df(self, file_name):\n",
    "        df = pd.read_excel(os.path.join(self.input_dir, file_name), \n",
    "                           sheet_name=self.pred_energy)\n",
    "        return df\n",
    "    \n",
    "    def get_target(self, file_name, target_name):\n",
    "        df = self.get_df(file_name)\n",
    "        return df[target_name]\n",
    "    \n",
    "    def strip(obj):\n",
    "        if isinstance(obj, pd.Series) or oisinstance(pd.DataFrame):\n",
    "            obj = obj.values\n",
    "        return obj"
   ]
  },
  {
   "cell_type": "code",
   "execution_count": 52,
   "metadata": {
    "collapsed": false
   },
   "outputs": [
    {
     "data": {
      "text/plain": [
       "'D:\\\\Toppan\\\\2018-3-20 new data\\\\unvec'"
      ]
     },
     "execution_count": 52,
     "metadata": {},
     "output_type": "execute_result"
    }
   ],
   "source": [
    "data = PreProc(input_dir, '蒸気')\n",
    "data.input_dir"
   ]
  },
  {
   "cell_type": "code",
   "execution_count": 53,
   "metadata": {
    "collapsed": false
   },
   "outputs": [
    {
     "data": {
      "text/plain": [
       "2018-01-01 08:00:00     0.90\n",
       "2018-01-01 09:00:00     0.90\n",
       "2018-01-01 10:00:00     0.90\n",
       "2018-01-01 11:00:00     0.90\n",
       "2018-01-01 12:00:00     0.90\n",
       "2018-01-01 13:00:00     0.90\n",
       "2018-01-01 14:00:00     0.90\n",
       "2018-01-01 15:00:00     0.90\n",
       "2018-01-01 16:00:00     0.90\n",
       "2018-01-01 17:00:00     0.90\n",
       "2018-01-01 18:00:00     0.90\n",
       "2018-01-01 19:00:00     0.90\n",
       "2018-01-01 20:00:00     0.90\n",
       "2018-01-01 21:00:00     0.90\n",
       "2018-01-01 22:00:00     0.90\n",
       "2018-01-01 23:00:00     0.90\n",
       "2018-01-02 00:00:00     0.90\n",
       "2018-01-02 01:00:00     0.90\n",
       "2018-01-02 02:00:00     0.90\n",
       "2018-01-02 03:00:00     0.90\n",
       "2018-01-02 04:00:00     0.90\n",
       "2018-01-02 05:00:00     0.90\n",
       "2018-01-02 06:00:00     0.90\n",
       "2018-01-02 07:00:00     0.90\n",
       "2018-01-02 08:00:00     0.90\n",
       "2018-01-02 09:00:00     0.90\n",
       "2018-01-02 10:00:00     0.90\n",
       "2018-01-02 11:00:00     0.90\n",
       "2018-01-02 12:00:00     0.90\n",
       "2018-01-02 13:00:00     0.90\n",
       "                       ...  \n",
       "2018-01-31 02:00:00    27.75\n",
       "2018-01-31 03:00:00    30.71\n",
       "2018-01-31 04:00:00    25.87\n",
       "2018-01-31 05:00:00    30.09\n",
       "2018-01-31 06:00:00    30.34\n",
       "2018-01-31 07:00:00    28.65\n",
       "2018-01-31 08:00:00    25.05\n",
       "2018-01-31 09:00:00    23.00\n",
       "2018-01-31 10:00:00    19.71\n",
       "2018-01-31 11:00:00    19.27\n",
       "2018-01-31 12:00:00    22.21\n",
       "2018-01-31 13:00:00    19.60\n",
       "2018-01-31 14:00:00    20.09\n",
       "2018-01-31 15:00:00    19.72\n",
       "2018-01-31 16:00:00    18.01\n",
       "2018-01-31 17:00:00    20.48\n",
       "2018-01-31 18:00:00    20.17\n",
       "2018-01-31 19:00:00    18.86\n",
       "2018-01-31 20:00:00    19.66\n",
       "2018-01-31 21:00:00    17.36\n",
       "2018-01-31 22:00:00    16.40\n",
       "2018-01-31 23:00:00    18.96\n",
       "2018-02-01 00:00:00     0.00\n",
       "2018-02-01 01:00:00     0.00\n",
       "2018-02-01 02:00:00     0.00\n",
       "2018-02-01 03:00:00     0.00\n",
       "2018-02-01 04:00:00     0.00\n",
       "2018-02-01 05:00:00     0.00\n",
       "2018-02-01 06:00:00     0.00\n",
       "2018-02-01 07:00:00     0.00\n",
       "Name: 需要蒸気, Length: 744, dtype: float64"
      ]
     },
     "execution_count": 53,
     "metadata": {},
     "output_type": "execute_result"
    }
   ],
   "source": [
    "data.set_train_test_files('201801010800.xlsx', '201802010800.xlsx')\n",
    "data.get_df(data.train_file)\n",
    "data.get_target(data.train_file, '需要蒸気')"
   ]
  },
  {
   "cell_type": "code",
   "execution_count": null,
   "metadata": {
    "collapsed": true
   },
   "outputs": [],
   "source": []
  }
 ],
 "metadata": {
  "kernelspec": {
   "display_name": "Python 3",
   "language": "python",
   "name": "python3"
  },
  "language_info": {
   "codemirror_mode": {
    "name": "ipython",
    "version": 3
   },
   "file_extension": ".py",
   "mimetype": "text/x-python",
   "name": "python",
   "nbconvert_exporter": "python",
   "pygments_lexer": "ipython3",
   "version": "3.6.0"
  }
 },
 "nbformat": 4,
 "nbformat_minor": 2
}
