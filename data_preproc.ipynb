{
 "cells": [
  {
   "cell_type": "code",
   "execution_count": 1,
   "metadata": {
    "collapsed": true
   },
   "outputs": [],
   "source": [
    "import os\n",
    "import pandas as pd\n",
    "import numpy as np"
   ]
  },
  {
   "cell_type": "code",
   "execution_count": 62,
   "metadata": {
    "collapsed": false
   },
   "outputs": [],
   "source": [
    "class PreProc:\n",
    "    \n",
    "    def __init__(self, input_dir, pred_energy):\n",
    "        self.input_dir = input_dir\n",
    "        self.pred_energy = pred_energy\n",
    "    \n",
    "    def set_train_test_files(self, train_file, test_file):\n",
    "        self.train_file = train_file\n",
    "        self.test_file = test_file\n",
    "        \n",
    "    def get_df(self, file_name):\n",
    "        df = pd.read_excel(os.path.join(self.input_dir, file_name), \n",
    "                           sheet_name=self.pred_energy)\n",
    "        return df\n",
    "    \n",
    "    def get_target(self, file_name, target_name):\n",
    "        df = self.get_df(file_name)\n",
    "        return df[target_name]\n",
    "    \n",
    "    '''\n",
    "        convert pandas series or data frames to lists\n",
    "    '''\n",
    "    def strip(self, obj):\n",
    "        if isinstance(obj, pd.Series) or isinstance(obj, pd.DataFrame):\n",
    "            obj = obj.values\n",
    "        return obj\n",
    "    \n",
    "    '''\n",
    "        generate X, y from 1 dimension data\n",
    "        yield X of length interval and y of length 1\n",
    "    '''\n",
    "    def generator_1d(self, data, interval, batch_size=32):\n",
    "        begin = 0\n",
    "        while True:\n",
    "            X, y = [], []\n",
    "            if begin + interval + batch_size < len(data) - 1:\n",
    "                for i in range(batch_size):\n",
    "                    X.append(data[begin + i: begin + i + interval])\n",
    "                    y.append(data[begin + i + interval])\n",
    "                yield np.expand_dims(np.asarray(X), axis=1), \\\n",
    "                                        np.expand_dims(np.asarray(y), axis=1)\n",
    "                begin += 1\n",
    "            else:\n",
    "                begin = 0\n"
   ]
  },
  {
   "cell_type": "markdown",
   "metadata": {},
   "source": [
    "### Test"
   ]
  },
  {
   "cell_type": "code",
   "execution_count": 63,
   "metadata": {
    "collapsed": false
   },
   "outputs": [],
   "source": [
    "input_dir = 'D:\\\\Toppan\\\\2018-3-20 new data\\\\unvec'\n",
    "data = PreProc(input_dir, '蒸気')\n",
    "data.set_train_test_files('201801010800.xlsx', '201802010800.xlsx')\n",
    "data.get_df(data.train_file)\n",
    "y=data.strip(data.get_target(data.train_file, '需要蒸気'))\n",
    "gen = data.generator_1d(y, 24, 2)"
   ]
  },
  {
   "cell_type": "code",
   "execution_count": 64,
   "metadata": {
    "collapsed": false
   },
   "outputs": [
    {
     "name": "stdout",
     "output_type": "stream",
     "text": [
      "(2, 1, 24) (2, 1)\n"
     ]
    },
    {
     "data": {
      "text/plain": [
       "(array([[[0.9, 0.9, 0.9, 0.9, 0.9, 0.9, 0.9, 0.9, 0.9, 0.9, 0.9, 0.9,\n",
       "          0.9, 0.9, 0.9, 0.9, 0.9, 0.9, 0.9, 0.9, 0.9, 0.9, 0.9, 0.9]],\n",
       " \n",
       "        [[0.9, 0.9, 0.9, 0.9, 0.9, 0.9, 0.9, 0.9, 0.9, 0.9, 0.9, 0.9,\n",
       "          0.9, 0.9, 0.9, 0.9, 0.9, 0.9, 0.9, 0.9, 0.9, 0.9, 0.9, 0.9]]]),\n",
       " array([[0.9],\n",
       "        [0.9]]))"
      ]
     },
     "execution_count": 64,
     "metadata": {},
     "output_type": "execute_result"
    }
   ],
   "source": [
    "a=next(gen)\n",
    "print(a[0].shape, a[1].shape)\n",
    "a"
   ]
  },
  {
   "cell_type": "code",
   "execution_count": null,
   "metadata": {
    "collapsed": true
   },
   "outputs": [],
   "source": []
  }
 ],
 "metadata": {
  "kernelspec": {
   "display_name": "Python 3",
   "language": "python",
   "name": "python3"
  },
  "language_info": {
   "codemirror_mode": {
    "name": "ipython",
    "version": 3
   },
   "file_extension": ".py",
   "mimetype": "text/x-python",
   "name": "python",
   "nbconvert_exporter": "python",
   "pygments_lexer": "ipython3",
   "version": "3.6.0"
  }
 },
 "nbformat": 4,
 "nbformat_minor": 2
}
