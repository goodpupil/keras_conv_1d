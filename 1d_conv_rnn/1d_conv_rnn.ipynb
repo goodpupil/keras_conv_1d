{
 "cells": [
  {
   "cell_type": "code",
   "execution_count": 2,
   "metadata": {},
   "outputs": [
    {
     "name": "stderr",
     "output_type": "stream",
     "text": [
      "Using TensorFlow backend.\n"
     ]
    },
    {
     "name": "stdout",
     "output_type": "stream",
     "text": [
      "(2, 24, 1) (2, 1)\n"
     ]
    }
   ],
   "source": [
    "from keras.models import Sequential\n",
    "from keras import layers\n",
    "from keras.optimizers import RMSprop\n",
    "import pandas as pd\n",
    "import os\n",
    "from keras.utils import plot_model\n",
    "import matplotlib.pyplot as plt\n",
    "import seaborn as sns\n",
    "\n",
    "%run ../preproc/data_preproc.ipynb\n",
    "%matplotlib inline"
   ]
  },
  {
   "cell_type": "markdown",
   "metadata": {
    "collapsed": true
   },
   "source": [
    "### Prepare data"
   ]
  },
  {
   "cell_type": "code",
   "execution_count": 3,
   "metadata": {},
   "outputs": [
    {
     "data": {
      "text/plain": [
       "['201711010800.xlsx',\n",
       " '201801010800.xlsx',\n",
       " '201802010800.xlsx',\n",
       " '201712010800.xlsx']"
      ]
     },
     "execution_count": 3,
     "metadata": {},
     "output_type": "execute_result"
    }
   ],
   "source": [
    "input_dir = '../data'\n",
    "input_files = [f for f in os.listdir(input_dir) if '.xlsx' in f]\n",
    "input_files"
   ]
  },
  {
   "cell_type": "code",
   "execution_count": 4,
   "metadata": {
    "collapsed": true
   },
   "outputs": [],
   "source": [
    "data = PreProc(input_dir, '蒸気')\n",
    "data.input_dir\n",
    "data.set_train_test_files('201801010800.xlsx', '201802010800.xlsx')\n",
    "df=data.get_df(data.train_file)\n",
    "\n",
    "y_train = data.strip(data.get_target(data.train_file, '需要蒸気'))\n",
    "y_test = data.strip(data.get_target(data.test_file, '需要蒸気'))\n",
    "\n",
    "y_train_norm = data.norm(y_train)"
   ]
  },
  {
   "cell_type": "markdown",
   "metadata": {},
   "source": [
    "### Network design"
   ]
  },
  {
   "cell_type": "code",
   "execution_count": 5,
   "metadata": {},
   "outputs": [
    {
     "name": "stdout",
     "output_type": "stream",
     "text": [
      "_________________________________________________________________\n",
      "Layer (type)                 Output Shape              Param #   \n",
      "=================================================================\n",
      "conv1d_1 (Conv1D)            (None, 140, 32)           192       \n",
      "_________________________________________________________________\n",
      "max_pooling1d_1 (MaxPooling1 (None, 46, 32)            0         \n",
      "_________________________________________________________________\n",
      "conv1d_2 (Conv1D)            (None, 42, 32)            5152      \n",
      "_________________________________________________________________\n",
      "gru_1 (GRU)                  (None, 32)                6240      \n",
      "_________________________________________________________________\n",
      "dense_1 (Dense)              (None, 1)                 33        \n",
      "=================================================================\n",
      "Total params: 11,617\n",
      "Trainable params: 11,617\n",
      "Non-trainable params: 0\n",
      "_________________________________________________________________\n"
     ]
    }
   ],
   "source": [
    "len_x = 144\n",
    "\n",
    "model=Sequential()\n",
    "model.add(layers.Conv1D(32, 5, activation='relu', input_shape=(len_x, 1)))\n",
    "model.add(layers.MaxPooling1D(3))\n",
    "model.add(layers.Conv1D(32, 5, activation='relu'))\n",
    "model.add(layers.GRU(32, dropout=0.1, recurrent_dropout=0.5))\n",
    "model.add(layers.Dense(1))\n",
    "\n",
    "model.summary()\n",
    "\n",
    "plot_model(model, show_shapes=True, to_file='1d_conv_rnn.png')\n",
    "\n",
    "from IPython.display import Image\n",
    "#Image(\"1d_conv_rnn.png\")"
   ]
  },
  {
   "cell_type": "markdown",
   "metadata": {},
   "source": [
    "### Training"
   ]
  },
  {
   "cell_type": "code",
   "execution_count": 6,
   "metadata": {},
   "outputs": [
    {
     "name": "stdout",
     "output_type": "stream",
     "text": [
      "Epoch 1/20\n",
      "18/18 [==============================] - 4s 211ms/step - loss: 0.7917 - acc: 0.0000e+00\n",
      "Epoch 2/20\n",
      "18/18 [==============================] - 1s 76ms/step - loss: 0.3877 - acc: 0.0000e+00\n",
      "Epoch 3/20\n",
      "18/18 [==============================] - 1s 83ms/step - loss: 0.2864 - acc: 0.0000e+00\n",
      "Epoch 4/20\n",
      "18/18 [==============================] - 1s 80ms/step - loss: 0.1753 - acc: 0.0000e+00\n",
      "Epoch 5/20\n",
      "18/18 [==============================] - 2s 84ms/step - loss: 0.1831 - acc: 0.0000e+00\n",
      "Epoch 6/20\n",
      "18/18 [==============================] - 1s 79ms/step - loss: 0.2011 - acc: 0.0000e+00\n",
      "Epoch 7/20\n",
      "18/18 [==============================] - 1s 82ms/step - loss: 0.2150 - acc: 0.0000e+00\n",
      "Epoch 8/20\n",
      "18/18 [==============================] - 1s 79ms/step - loss: 0.2191 - acc: 0.0000e+00\n",
      "Epoch 9/20\n",
      "18/18 [==============================] - 1s 78ms/step - loss: 0.2236 - acc: 0.0000e+00\n",
      "Epoch 10/20\n",
      "18/18 [==============================] - 1s 82ms/step - loss: 0.2535 - acc: 0.0000e+00\n",
      "Epoch 11/20\n",
      "18/18 [==============================] - 2s 84ms/step - loss: 0.2345 - acc: 0.0000e+00\n",
      "Epoch 12/20\n",
      "18/18 [==============================] - 2s 87ms/step - loss: 0.1584 - acc: 0.0000e+00\n",
      "Epoch 13/20\n",
      "18/18 [==============================] - 2s 83ms/step - loss: 0.1359 - acc: 0.0000e+00\n",
      "Epoch 14/20\n",
      "18/18 [==============================] - 2s 85ms/step - loss: 0.1472 - acc: 0.0000e+00\n",
      "Epoch 15/20\n",
      "18/18 [==============================] - 1s 81ms/step - loss: 0.1715 - acc: 0.0000e+00\n",
      "Epoch 16/20\n",
      "18/18 [==============================] - 2s 86ms/step - loss: 0.1583 - acc: 0.0000e+00\n",
      "Epoch 17/20\n",
      "18/18 [==============================] - 1s 82ms/step - loss: 0.1474 - acc: 0.0000e+00\n",
      "Epoch 18/20\n",
      "18/18 [==============================] - 1s 81ms/step - loss: 0.1893 - acc: 0.0000e+00\n",
      "Epoch 19/20\n",
      "18/18 [==============================] - 1s 81ms/step - loss: 0.1590 - acc: 0.0000e+00\n",
      "Epoch 20/20\n",
      "18/18 [==============================] - 1s 77ms/step - loss: 0.1162 - acc: 0.0000e+00\n"
     ]
    }
   ],
   "source": [
    "batch_size_train = 32\n",
    "steps = (len(y_train) - len_x) // batch_size_train\n",
    "\n",
    "model.compile(optimizer=RMSprop(), loss='mae', metrics=['acc'])\n",
    "history = model.fit_generator(generator=data.generator_1d_train(y_train_norm, len_x, batch_size_train),\n",
    "                              steps_per_epoch=steps, shuffle=False, verbose=1,\n",
    "                              epochs=20)"
   ]
  },
  {
   "cell_type": "markdown",
   "metadata": {},
   "source": [
    "### Predicting"
   ]
  },
  {
   "cell_type": "code",
   "execution_count": 1,
   "metadata": {},
   "outputs": [
    {
     "ename": "NameError",
     "evalue": "name 'y_test' is not defined",
     "output_type": "error",
     "traceback": [
      "\u001b[0;31m---------------------------------------------------------------------------\u001b[0m",
      "\u001b[0;31mNameError\u001b[0m                                 Traceback (most recent call last)",
      "\u001b[0;32m<ipython-input-1-d7034ca620f6>\u001b[0m in \u001b[0;36m<module>\u001b[0;34m()\u001b[0m\n\u001b[1;32m      1\u001b[0m \u001b[0mpreds\u001b[0m \u001b[0;34m=\u001b[0m \u001b[0;34m[\u001b[0m\u001b[0;34m]\u001b[0m\u001b[0;34m\u001b[0m\u001b[0m\n\u001b[0;32m----> 2\u001b[0;31m \u001b[0;32mfor\u001b[0m \u001b[0mi\u001b[0m \u001b[0;32min\u001b[0m \u001b[0mrange\u001b[0m\u001b[0;34m(\u001b[0m\u001b[0mlen\u001b[0m\u001b[0;34m(\u001b[0m\u001b[0my_test\u001b[0m\u001b[0;34m)\u001b[0m \u001b[0;34m-\u001b[0m \u001b[0mlen_x\u001b[0m\u001b[0;34m)\u001b[0m\u001b[0;34m:\u001b[0m\u001b[0;34m\u001b[0m\u001b[0m\n\u001b[0m\u001b[1;32m      3\u001b[0m     \u001b[0mpred\u001b[0m \u001b[0;34m=\u001b[0m \u001b[0mmodel\u001b[0m\u001b[0;34m.\u001b[0m\u001b[0mpredict_generator\u001b[0m\u001b[0;34m(\u001b[0m\u001b[0mgenerator\u001b[0m\u001b[0;34m=\u001b[0m\u001b[0mdata\u001b[0m\u001b[0;34m.\u001b[0m\u001b[0mgenerator_1d_test\u001b[0m\u001b[0;34m(\u001b[0m\u001b[0my_test\u001b[0m\u001b[0;34m[\u001b[0m\u001b[0msteps\u001b[0m \u001b[0;34m-\u001b[0m \u001b[0;36m1\u001b[0m\u001b[0;34m:\u001b[0m\u001b[0;34m]\u001b[0m\u001b[0;34m,\u001b[0m \u001b[0mlen_x\u001b[0m\u001b[0;34m,\u001b[0m \u001b[0mbatch_size\u001b[0m\u001b[0;34m=\u001b[0m\u001b[0;36m1\u001b[0m\u001b[0;34m)\u001b[0m\u001b[0;34m,\u001b[0m \u001b[0msteps\u001b[0m\u001b[0;34m=\u001b[0m\u001b[0;36m1\u001b[0m\u001b[0;34m)\u001b[0m\u001b[0;34m\u001b[0m\u001b[0m\n\u001b[1;32m      4\u001b[0m     \u001b[0mpreds\u001b[0m\u001b[0;34m.\u001b[0m\u001b[0mappend\u001b[0m\u001b[0;34m(\u001b[0m\u001b[0mdata\u001b[0m\u001b[0;34m.\u001b[0m\u001b[0mdenorm\u001b[0m\u001b[0;34m(\u001b[0m\u001b[0mpred\u001b[0m\u001b[0;34m[\u001b[0m\u001b[0;36m0\u001b[0m\u001b[0;34m]\u001b[0m\u001b[0;34m)\u001b[0m\u001b[0;34m)\u001b[0m\u001b[0;34m\u001b[0m\u001b[0m\n\u001b[1;32m      5\u001b[0m \u001b[0;34m\u001b[0m\u001b[0m\n",
      "\u001b[0;31mNameError\u001b[0m: name 'y_test' is not defined"
     ]
    }
   ],
   "source": [
    "preds = []\n",
    "for i in range(len(y_test) - len_x):\n",
    "    pred = model.predict_generator(generator=data.generator_1d_test(y_test[steps - 1:], len_x, batch_size=1), steps=1)\n",
    "    preds.append(data.denorm(pred[0]))\n",
    "    \n",
    "    '''incremental learning'''\n",
    "    y_train = np.concatenate((y_train, y_test[:len_x + i + 1]), axis=0)\n",
    "    y_train_norm = data.norm(y_train)\n",
    "    \n",
    "    steps = (len(y_train) - len_x) // batch_size_train\n",
    "    history = model.fit_generator(generator=data.generator_1d_train(y_train_norm, len_x, batch_size_train), \n",
    "                                  steps_per_epoch=steps, shuffle=False, verbose=1, epochs=20)"
   ]
  },
  {
   "cell_type": "code",
   "execution_count": 7,
   "metadata": {},
   "outputs": [
    {
     "data": {
      "text/plain": [
       "[<matplotlib.lines.Line2D at 0x11f1710f0>]"
      ]
     },
     "execution_count": 7,
     "metadata": {},
     "output_type": "execute_result"
    },
    {
     "data": {
      "image/png": "[encoded data removed]",
      "text/plain": [
       "<matplotlib.figure.Figure at 0x11f1710b8>"
      ]
     },
     "metadata": {},
     "output_type": "display_data"
    }
   ],
   "source": [
    "plt.plot(preds)\n",
    "plt.plot(y_test[-512:])"
   ]
  },
  {
   "cell_type": "code",
   "execution_count": null,
   "metadata": {
    "collapsed": true
   },
   "outputs": [],
   "source": []
  }
 ],
 "metadata": {
  "kernelspec": {
   "display_name": "Python 3",
   "language": "python",
   "name": "python3"
  },
  "language_info": {
   "codemirror_mode": {
    "name": "ipython",
    "version": 3
   },
   "file_extension": ".py",
   "mimetype": "text/x-python",
   "name": "python",
   "nbconvert_exporter": "python",
   "pygments_lexer": "ipython3",
   "version": "3.5.2"
  }
 },
 "nbformat": 4,
 "nbformat_minor": 2
}
