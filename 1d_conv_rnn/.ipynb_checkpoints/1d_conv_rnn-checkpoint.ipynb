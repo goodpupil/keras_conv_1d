{
 "cells": [
  {
   "cell_type": "code",
   "execution_count": 27,
   "metadata": {
    "collapsed": false
   },
   "outputs": [],
   "source": [
    "from keras.models import Sequential\n",
    "from keras import layers\n",
    "from keras.optimizers import RMSprop\n",
    "import pandas as pd\n",
    "import os\n",
    "from keras.utils import plot_model\n",
    "import matplotlib.pyplot as plt\n",
    "import seaborn as sns\n",
    "import numpy as np\n",
    "\n",
    "#%run ../preproc/data_preproc.ipynb\n",
    "%matplotlib inline"
   ]
  },
  {
   "cell_type": "code",
   "execution_count": 28,
   "metadata": {
    "collapsed": true
   },
   "outputs": [],
   "source": [
    "class PreProc:\n",
    "    \n",
    "    def __init__(self, input_dir, pred_energy):\n",
    "        self.input_dir = input_dir\n",
    "        self.pred_energy = pred_energy\n",
    "    \n",
    "    def set_train_test_files(self, train_file, test_file):\n",
    "        self.train_file = train_file\n",
    "        self.test_file = test_file\n",
    "        \n",
    "    def get_df(self, file_name):\n",
    "        df = pd.read_excel(os.path.join(self.input_dir, file_name), \n",
    "                           sheet_name=self.pred_energy)\n",
    "        return df\n",
    "    \n",
    "    def get_target(self, file_name, target_name):\n",
    "        df = self.get_df(file_name)\n",
    "        return df[target_name]\n",
    "    \n",
    "    '''\n",
    "        convert pandas series or data frames to lists\n",
    "    '''\n",
    "    def strip(self, obj):\n",
    "        if isinstance(obj, pd.Series) or isinstance(obj, pd.DataFrame):\n",
    "            obj = obj.values\n",
    "        return obj\n",
    "    \n",
    "    '''\n",
    "        generate X, y from 1 dimension training data\n",
    "        yield X of length interval and y of length 1\n",
    "    '''\n",
    "    def generator_1d_train(self, data, interval, batch_size=32):\n",
    "        begin = 0\n",
    "        while True:\n",
    "            X, y = [], []\n",
    "            if begin + interval + batch_size - 1 < len(data):\n",
    "                for i in range(batch_size):\n",
    "                    X.append(data[begin + i: begin + i + interval])\n",
    "                    y.append(data[begin + i + interval])\n",
    "                yield np.asarray(X).reshape(batch_size, interval, 1), np.asarray(y).reshape(batch_size, 1)\n",
    "                begin += 1\n",
    "            else:\n",
    "                begin = 0\n",
    "    \n",
    "    '''\n",
    "        generate X, y from 1 dimension test data\n",
    "        batch_size is default to 1 for one test at one time\n",
    "    '''\n",
    "    def generator_1d_test(self, data, interval, batch_size=1):\n",
    "        begin = 0\n",
    "        while True:\n",
    "            X, y = [], []\n",
    "            if begin + interval + batch_size - 1 < len(data):\n",
    "                for i in range(batch_size):\n",
    "                    \n",
    "                    X.append(self.norm(data[begin + i: begin + i + interval]))\n",
    "                    y.append(data[begin + i + interval])\n",
    "                yield np.asarray(X).reshape(batch_size, interval, 1), np.asarray(y).reshape(batch_size, 1)\n",
    "                begin += 1\n",
    "            else:\n",
    "                begin = 0\n",
    "        \n",
    "    \n",
    "    '''\n",
    "        data normalization\n",
    "    '''\n",
    "    def norm(self, data):\n",
    "        self.mean = data.mean(axis=0)\n",
    "        self.std = data.std(axis=0)\n",
    "        return (data - self.mean) / self.std\n",
    "        \n",
    "    '''\n",
    "        denormalization\n",
    "        Should be called after normlization\n",
    "    '''\n",
    "    def denorm(self, data):\n",
    "        return data * self.std + self.mean"
   ]
  },
  {
   "cell_type": "markdown",
   "metadata": {
    "collapsed": true
   },
   "source": [
    "### Prepare data"
   ]
  },
  {
   "cell_type": "code",
   "execution_count": 29,
   "metadata": {
    "collapsed": false
   },
   "outputs": [
    {
     "data": {
      "text/plain": [
       "['201711010800.xlsx',\n",
       " '201712010800.xlsx',\n",
       " '201801010800.xlsx',\n",
       " '201802010800.xlsx']"
      ]
     },
     "execution_count": 29,
     "metadata": {},
     "output_type": "execute_result"
    }
   ],
   "source": [
    "input_dir = '../data'\n",
    "input_files = [f for f in os.listdir(input_dir) if '.xlsx' in f]\n",
    "input_files"
   ]
  },
  {
   "cell_type": "code",
   "execution_count": 30,
   "metadata": {
    "collapsed": true
   },
   "outputs": [],
   "source": [
    "data = PreProc(input_dir, '蒸気')\n",
    "data.input_dir\n",
    "data.set_train_test_files('201801010800.xlsx', '201802010800.xlsx')\n",
    "df=data.get_df(data.train_file)\n",
    "\n",
    "y_train = data.strip(data.get_target(data.train_file, '需要蒸気'))\n",
    "y_test = data.strip(data.get_target(data.test_file, '需要蒸気'))\n",
    "\n",
    "y_train_norm = data.norm(y_train)"
   ]
  },
  {
   "cell_type": "markdown",
   "metadata": {},
   "source": [
    "### Network design"
   ]
  },
  {
   "cell_type": "code",
   "execution_count": 31,
   "metadata": {
    "collapsed": false
   },
   "outputs": [
    {
     "name": "stdout",
     "output_type": "stream",
     "text": [
      "_________________________________________________________________\n",
      "Layer (type)                 Output Shape              Param #   \n",
      "=================================================================\n",
      "conv1d_7 (Conv1D)            (None, 140, 32)           192       \n",
      "_________________________________________________________________\n",
      "max_pooling1d_4 (MaxPooling1 (None, 46, 32)            0         \n",
      "_________________________________________________________________\n",
      "conv1d_8 (Conv1D)            (None, 42, 32)            5152      \n",
      "_________________________________________________________________\n",
      "gru_4 (GRU)                  (None, 42, 32)            6240      \n",
      "_________________________________________________________________\n",
      "gru_5 (GRU)                  (None, 32)                6240      \n",
      "_________________________________________________________________\n",
      "dense_4 (Dense)              (None, 1)                 33        \n",
      "=================================================================\n",
      "Total params: 17,857\n",
      "Trainable params: 17,857\n",
      "Non-trainable params: 0\n",
      "_________________________________________________________________\n"
     ]
    }
   ],
   "source": [
    "len_x = 144\n",
    "\n",
    "model=Sequential()\n",
    "model.add(layers.Conv1D(32, 5, activation='relu', input_shape=(len_x, 1)))\n",
    "model.add(layers.MaxPooling1D(3))\n",
    "model.add(layers.Conv1D(32, 5, activation='relu'))\n",
    "model.add(layers.GRU(32, dropout=0.25, recurrent_dropout=0.5, return_sequences=True))\n",
    "model.add(layers.GRU(32, dropout=0.25, recurrent_dropout=0.5))\n",
    "model.add(layers.Dense(1))\n",
    "\n",
    "model.summary()\n",
    "\n",
    "plot_model(model, show_shapes=True, to_file='1d_conv_rnn.png')\n",
    "\n",
    "from IPython.display import Image\n",
    "#Image(\"1d_conv_rnn.png\")"
   ]
  },
  {
   "cell_type": "markdown",
   "metadata": {},
   "source": [
    "### Training"
   ]
  },
  {
   "cell_type": "code",
   "execution_count": null,
   "metadata": {
    "collapsed": false
   },
   "outputs": [],
   "source": [
    "batch_size_train = 32\n",
    "steps = (len(y_train) - len_x) // batch_size_train\n",
    "\n",
    "model.compile(optimizer=RMSprop(), loss='mae', metrics=['acc'])\n",
    "history = model.fit_generator(generator=data.generator_1d_train(y_train_norm, len_x, batch_size_train),\n",
    "                              steps_per_epoch=steps, shuffle=False, verbose=0,\n",
    "                              epochs=100)"
   ]
  },
  {
   "cell_type": "markdown",
   "metadata": {},
   "source": [
    "### Predicting"
   ]
  },
  {
   "cell_type": "code",
   "execution_count": null,
   "metadata": {
    "collapsed": false
   },
   "outputs": [
    {
     "name": "stdout",
     "output_type": "stream",
     "text": [
      "0\n",
      "10\n",
      "20\n",
      "30\n",
      "40\n"
     ]
    }
   ],
   "source": [
    "preds = []\n",
    "for i in range(len(y_test) - len_x):\n",
    "    pred = model.predict_generator(\n",
    "                            generator=data.generator_1d_test(y_test[i:], \n",
    "                            len_x, batch_size=1), steps=1)\n",
    "    preds.append(data.denorm(pred[0]))\n",
    "    \n",
    "    '''incremental learning'''\n",
    "    if i % 10 == 0:\n",
    "        print(i)\n",
    "        y_train_ = np.concatenate((y_train, y_test[:len_x + i + 1]), axis=0)\n",
    "        y_train_norm = data.norm(y_train_)\n",
    "\n",
    "        steps = (len(y_train_) - len_x) // batch_size_train\n",
    "        history = model.fit_generator(\n",
    "                    generator=data.generator_1d_train(y_train_norm, len_x, batch_size_train), \n",
    "                    steps_per_epoch=steps, shuffle=False, verbose=0, epochs=100)"
   ]
  },
  {
   "cell_type": "code",
   "execution_count": null,
   "metadata": {
    "collapsed": false
   },
   "outputs": [],
   "source": [
    "plt.plot(preds)\n",
    "plt.plot(y_test[-512:])"
   ]
  },
  {
   "cell_type": "code",
   "execution_count": null,
   "metadata": {
    "collapsed": true
   },
   "outputs": [],
   "source": []
  }
 ],
 "metadata": {
  "kernelspec": {
   "display_name": "Python 3",
   "language": "python",
   "name": "python3"
  },
  "language_info": {
   "codemirror_mode": {
    "name": "ipython",
    "version": 3
   },
   "file_extension": ".py",
   "mimetype": "text/x-python",
   "name": "python",
   "nbconvert_exporter": "python",
   "pygments_lexer": "ipython3",
   "version": "3.6.0"
  }
 },
 "nbformat": 4,
 "nbformat_minor": 2
}
