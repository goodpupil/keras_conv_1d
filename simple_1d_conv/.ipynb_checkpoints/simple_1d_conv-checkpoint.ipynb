{
 "cells": [
  {
   "cell_type": "code",
   "execution_count": 9,
   "metadata": {
    "collapsed": false
   },
   "outputs": [],
   "source": [
    "from keras.models import Sequential\n",
    "from keras import layers\n",
    "from keras.optimizers import RMSprop\n",
    "import pandas as pd\n",
    "import os\n",
    "from keras.utils import plot_model\n",
    "import matplotlib.pyplot as plt\n",
    "import seaborn as sns\n",
    "import numpy as np\n",
    "\n",
    "%matplotlib inline"
   ]
  },
  {
   "cell_type": "code",
   "execution_count": 10,
   "metadata": {
    "collapsed": true
   },
   "outputs": [],
   "source": [
    "class PreProc:\n",
    "    \n",
    "    def __init__(self, input_dir, pred_energy):\n",
    "        self.input_dir = input_dir\n",
    "        self.pred_energy = pred_energy\n",
    "    \n",
    "    def set_train_test_files(self, train_file, test_file):\n",
    "        self.train_file = train_file\n",
    "        self.test_file = test_file\n",
    "        \n",
    "    def get_df(self, file_name):\n",
    "        df = pd.read_excel(os.path.join(self.input_dir, file_name), \n",
    "                           sheet_name=self.pred_energy)\n",
    "        return df\n",
    "    \n",
    "    def get_target(self, file_name, target_name):\n",
    "        df = self.get_df(file_name)\n",
    "        return df[target_name]\n",
    "    \n",
    "    '''\n",
    "        convert pandas series or data frames to lists\n",
    "    '''\n",
    "    def strip(self, obj):\n",
    "        if isinstance(obj, pd.Series) or isinstance(obj, pd.DataFrame):\n",
    "            obj = obj.values\n",
    "        return obj\n",
    "    \n",
    "    '''\n",
    "        generate X, y from 1 dimension training data\n",
    "        yield X of length interval and y of length 1\n",
    "    '''\n",
    "    def generator_1d_train(self, data, interval, batch_size=32):\n",
    "        begin = 0\n",
    "        while True:\n",
    "            X, y = [], []\n",
    "            if begin + interval + batch_size - 1 < len(data):\n",
    "                for i in range(batch_size):\n",
    "                    X.append(data[begin + i: begin + i + interval])\n",
    "                    y.append(data[begin + i + interval])\n",
    "                yield np.asarray(X).reshape(batch_size, interval, 1), np.asarray(y).reshape(batch_size, 1)\n",
    "                begin += 1\n",
    "            else:\n",
    "                begin = 0\n",
    "    \n",
    "    '''\n",
    "        generate X, y from 1 dimension test data\n",
    "        batch_size is default to 1 for one test at one time\n",
    "    '''\n",
    "    def generator_1d_test(self, data, interval, batch_size=1):\n",
    "        begin = 0\n",
    "        while True:\n",
    "            X, y = [], []\n",
    "            if begin + interval + batch_size - 1 < len(data):\n",
    "                for i in range(batch_size):\n",
    "                    \n",
    "                    X.append(self.norm(data[begin + i: begin + i + interval]))\n",
    "                    y.append(data[begin + i + interval])\n",
    "                yield np.asarray(X).reshape(batch_size, interval, 1), np.asarray(y).reshape(batch_size, 1)\n",
    "                begin += 1\n",
    "            else:\n",
    "                begin = 0\n",
    "        \n",
    "    \n",
    "    '''\n",
    "        data normalization\n",
    "    '''\n",
    "    def norm(self, data):\n",
    "        self.mean = data.mean(axis=0)\n",
    "        self.std = data.std(axis=0)\n",
    "        return (data - self.mean) / self.std\n",
    "        \n",
    "    '''\n",
    "        denormalization\n",
    "        Should be called after normlization\n",
    "    '''\n",
    "    def denorm(self, data):\n",
    "        return data * self.std + self.mean"
   ]
  },
  {
   "cell_type": "markdown",
   "metadata": {},
   "source": [
    "### Prepare data"
   ]
  },
  {
   "cell_type": "code",
   "execution_count": 11,
   "metadata": {
    "collapsed": false
   },
   "outputs": [
    {
     "data": {
      "text/plain": [
       "['201711010800.xlsx',\n",
       " '201712010800.xlsx',\n",
       " '201801010800.xlsx',\n",
       " '201802010800.xlsx']"
      ]
     },
     "execution_count": 11,
     "metadata": {},
     "output_type": "execute_result"
    }
   ],
   "source": [
    "input_dir = '../data'\n",
    "input_files = [f for f in os.listdir(input_dir) if '.xlsx' in f]\n",
    "input_files"
   ]
  },
  {
   "cell_type": "code",
   "execution_count": 12,
   "metadata": {
    "collapsed": false
   },
   "outputs": [
    {
     "name": "stdout",
     "output_type": "stream",
     "text": [
      "1416 744 672\n"
     ]
    }
   ],
   "source": [
    "data = PreProc(input_dir, '蒸気')\n",
    "data.input_dir\n",
    "data.set_train_test_files('201801010800.xlsx', '201802010800.xlsx')\n",
    "df=data.get_df(data.train_file)\n",
    "\n",
    "y_train = data.strip(data.get_target(data.train_file, '需要蒸気'))\n",
    "y_test = data.strip(data.get_target(data.test_file, '需要蒸気'))\n",
    "\n",
    "y_train_norm = data.norm(y_train)\n",
    "\n",
    "print(len(np.concatenate((y_train, y_test), axis=0)), len(y_train), len(y_test))"
   ]
  },
  {
   "cell_type": "markdown",
   "metadata": {},
   "source": [
    "### Network design"
   ]
  },
  {
   "cell_type": "code",
   "execution_count": 13,
   "metadata": {
    "collapsed": false
   },
   "outputs": [
    {
     "name": "stdout",
     "output_type": "stream",
     "text": [
      "_________________________________________________________________\n",
      "Layer (type)                 Output Shape              Param #   \n",
      "=================================================================\n",
      "conv1d_3 (Conv1D)            (None, 138, 32)           256       \n",
      "_________________________________________________________________\n",
      "max_pooling1d_2 (MaxPooling1 (None, 27, 32)            0         \n",
      "_________________________________________________________________\n",
      "conv1d_4 (Conv1D)            (None, 21, 32)            7200      \n",
      "_________________________________________________________________\n",
      "global_max_pooling1d_2 (Glob (None, 32)                0         \n",
      "_________________________________________________________________\n",
      "dense_2 (Dense)              (None, 1)                 33        \n",
      "=================================================================\n",
      "Total params: 7,489\n",
      "Trainable params: 7,489\n",
      "Non-trainable params: 0\n",
      "_________________________________________________________________\n"
     ]
    }
   ],
   "source": [
    "'''\n",
    "Be careful of the flow of tensor shapes\n",
    "    https://stackoverflow.com/questions/42392798/error-during-playing-with-keras-example-pretrained-word-embeddings\n",
    "'''\n",
    "len_x = 144 # feature length, using 144 hours (one week) time series as features to predict the next y\n",
    "\n",
    "model=Sequential()\n",
    "model.add(layers.Conv1D(32, 7, activation='relu', input_shape=(len_x, 1)))\n",
    "model.add(layers.MaxPool1D(5))\n",
    "model.add(layers.Conv1D(32, 7, activation='relu'))\n",
    "model.add(layers.GlobalMaxPooling1D())\n",
    "model.add(layers.Dense(1))\n",
    "\n",
    "model.summary()\n",
    "\n",
    "plot_model(model, show_shapes=True, to_file='simple_1d_conv.png')\n",
    "\n",
    "from IPython.display import Image\n",
    "#Image(\"simple_1d_conv.png\")"
   ]
  },
  {
   "cell_type": "markdown",
   "metadata": {},
   "source": [
    "### Training"
   ]
  },
  {
   "cell_type": "code",
   "execution_count": 14,
   "metadata": {
    "collapsed": false
   },
   "outputs": [
    {
     "name": "stdout",
     "output_type": "stream",
     "text": [
      "Epoch 1/20\n",
      "18/18 [==============================] - 0s 9ms/step - loss: 1.1234 - acc: 0.0000e+00\b\b\b\b\b\b\b\b\b\b\b\b\b\b\b\b\b\b\b\b\b\b\b\b\b\b\b\b\b\b\b\b\b\b\b\b\b\b\b\b\b\b\b\b\b\b\b\b\b\b\b\b\b\b\b\b\b\b\b\b\b\b\b\b\b\b\b\b\b\b\b\b\b\b\b\b\b\n",
      "Epoch 2/20\n",
      "18/18 [==============================] - 0s 3ms/step - loss: 0.9453 - acc: 0.0000e+00\b\b\b\b\b\b\b\b\b\b\b\b\b\b\b\b\b\b\b\b\b\b\b\b\b\b\b\b\b\b\b\b\b\b\b\b\b\b\b\b\b\b\b\b\b\b\b\b\b\b\b\b\b\b\b\b\b\b\b\b\b\b\b\b\b\b\b\b\b\b\b\b\b\b\b\b\b\n",
      "Epoch 3/20\n",
      "18/18 [==============================] - 0s 3ms/step - loss: 0.7279 - acc: 0.0000e+00\b\b\b\b\b\b\b\b\b\b\b\b\b\b\b\b\b\b\b\b\b\b\b\b\b\b\b\b\b\b\b\b\b\b\b\b\b\b\b\b\b\b\b\b\b\b\b\b\b\b\b\b\b\b\b\b\b\b\b\b\b\b\b\b\b\b\b\b\b\b\b\b\b\b\b\b\b\n",
      "Epoch 4/20\n",
      "18/18 [==============================] - 0s 3ms/step - loss: 0.3449 - acc: 0.0000e+00\b\b\b\b\b\b\b\b\b\b\b\b\b\b\b\b\b\b\b\b\b\b\b\b\b\b\b\b\b\b\b\b\b\b\b\b\b\b\b\b\b\b\b\b\b\b\b\b\b\b\b\b\b\b\b\b\b\b\b\b\b\b\b\b\b\b\b\b\b\b\b\b\b\b\b\b\b\b\b\b\b\b\b\b\b\b\b\b\b\b\b\b\b\b\b\b\b\b\b\b\b\b\b\b\b\b\b\b\b\b\b\b\b\b\b\b\b\b\b\b\b\b\b\b\b\b\b\b\b\b\b\b\b\b\b\b\b\b\b\b\b\b\b\b\b\b\b\b\b\b\b\b\b\b\b\b\b\b\n",
      "Epoch 5/20\n",
      "18/18 [==============================] - 0s 3ms/step - loss: 0.1892 - acc: 0.0000e+00\b\b\b\b\b\b\b\b\b\b\b\b\b\b\b\b\b\b\b\b\b\b\b\b\b\b\b\b\b\b\b\b\b\b\b\b\b\b\b\b\b\b\b\b\b\b\b\b\b\b\b\b\b\b\b\b\b\b\b\b\b\b\b\b\b\b\b\b\b\b\b\b\b\b\b\b\b\n",
      "Epoch 6/20\n",
      "18/18 [==============================] - 0s 3ms/step - loss: 0.1750 - acc: 0.0000e+00\b\b\b\b\b\b\b\b\b\b\b\b\b\b\b\b\b\b\b\b\b\b\b\b\b\b\b\b\b\b\b\b\b\b\b\b\b\b\b\b\b\b\b\b\b\b\b\b\b\b\b\b\b\b\b\b\b\b\b\b\b\b\b\b\b\b\b\b\b\b\b\b\b\b\b\b\b\b\b\b\b\b\b\b\b\b\b\b\b\b\b\b\b\b\b\b\b\b\b\b\b\b\b\b\b\b\b\b\b\b\b\b\b\b\b\b\b\b\b\b\b\b\b\b\b\b\b\b\b\b\b\b\b\b\b\b\b\b\b\b\b\b\b\b\b\b\b\b\b\b\b\b\b\b\b\b\b\b\n",
      "Epoch 7/20\n",
      "18/18 [==============================] - 0s 3ms/step - loss: 0.1901 - acc: 0.0000e+00\b\b\b\b\b\b\b\b\b\b\b\b\b\b\b\b\b\b\b\b\b\b\b\b\b\b\b\b\b\b\b\b\b\b\b\b\b\b\b\b\b\b\b\b\b\b\b\b\b\b\b\b\b\b\b\b\b\b\b\b\b\b\b\b\b\b\b\b\b\b\b\b\b\b\b\b\b\n",
      "Epoch 8/20\n",
      "18/18 [==============================] - 0s 3ms/step - loss: 0.2175 - acc: 0.0000e+00\b\b\b\b\b\b\b\b\b\b\b\b\b\b\b\b\b\b\b\b\b\b\b\b\b\b\b\b\b\b\b\b\b\b\b\b\b\b\b\b\b\b\b\b\b\b\b\b\b\b\b\b\b\b\b\b\b\b\b\b\b\b\b\b\b\b\b\b\b\b\b\b\b\b\b\b\b\b\b\b\b\b\b\b\b\b\b\b\b\b\b\b\b\b\b\b\b\b\b\b\b\b\b\b\b\b\b\b\b\b\b\b\b\b\b\b\b\b\b\b\b\b\b\b\b\b\b\b\b\b\b\b\b\b\b\b\b\b\b\b\b\b\b\b\b\b\b\b\b\b\b\b\b\b\b\b\b\b\n",
      "Epoch 9/20\n",
      "18/18 [==============================] - 0s 3ms/step - loss: 0.2549 - acc: 0.0000e+00\b\b\b\b\b\b\b\b\b\b\b\b\b\b\b\b\b\b\b\b\b\b\b\b\b\b\b\b\b\b\b\b\b\b\b\b\b\b\b\b\b\b\b\b\b\b\b\b\b\b\b\b\b\b\b\b\b\b\b\b\b\b\b\b\b\b\b\b\b\b\b\b\b\b\b\b\b\b\b\b\b\b\b\b\b\b\b\b\b\b\b\b\b\b\b\b\b\b\b\b\b\b\b\b\b\b\b\b\b\b\b\b\b\b\b\b\b\b\b\b\b\b\b\b\b\b\b\b\b\b\b\b\b\b\b\b\b\b\b\b\b\b\b\b\b\b\b\b\b\b\b\b\b\b\b\b\b\b\n",
      "Epoch 10/20\n",
      "18/18 [==============================] - 0s 3ms/step - loss: 0.2484 - acc: 0.0000e+00\b\b\b\b\b\b\b\b\b\b\b\b\b\b\b\b\b\b\b\b\b\b\b\b\b\b\b\b\b\b\b\b\b\b\b\b\b\b\b\b\b\b\b\b\b\b\b\b\b\b\b\b\b\b\b\b\b\b\b\b\b\b\b\b\b\b\b\b\b\b\b\b\b\b\b\b\b\n",
      "Epoch 11/20\n",
      "18/18 [==============================] - 0s 3ms/step - loss: 0.2865 - acc: 0.0000e+00\b\b\b\b\b\b\b\b\b\b\b\b\b\b\b\b\b\b\b\b\b\b\b\b\b\b\b\b\b\b\b\b\b\b\b\b\b\b\b\b\b\b\b\b\b\b\b\b\b\b\b\b\b\b\b\b\b\b\b\b\b\b\b\b\b\b\b\b\b\b\b\b\b\b\b\b\b\n",
      "Epoch 12/20\n",
      "18/18 [==============================] - 0s 3ms/step - loss: 0.3265 - acc: 0.0000e+00\b\b\b\b\b\b\b\b\b\b\b\b\b\b\b\b\b\b\b\b\b\b\b\b\b\b\b\b\b\b\b\b\b\b\b\b\b\b\b\b\b\b\b\b\b\b\b\b\b\b\b\b\b\b\b\b\b\b\b\b\b\b\b\b\b\b\b\b\b\b\b\b\b\b\b\b\b\n",
      "Epoch 13/20\n",
      "18/18 [==============================] - 0s 3ms/step - loss: 0.1734 - acc: 0.0000e+00\b\b\b\b\b\b\b\b\b\b\b\b\b\b\b\b\b\b\b\b\b\b\b\b\b\b\b\b\b\b\b\b\b\b\b\b\b\b\b\b\b\b\b\b\b\b\b\b\b\b\b\b\b\b\b\b\b\b\b\b\b\b\b\b\b\b\b\b\b\b\b\b\b\b\b\b\b\n",
      "Epoch 14/20\n",
      "18/18 [==============================] - 0s 3ms/step - loss: 0.1517 - acc: 0.0000e+00\b\b\b\b\b\b\b\b\b\b\b\b\b\b\b\b\b\b\b\b\b\b\b\b\b\b\b\b\b\b\b\b\b\b\b\b\b\b\b\b\b\b\b\b\b\b\b\b\b\b\b\b\b\b\b\b\b\b\b\b\b\b\b\b\b\b\b\b\b\b\b\b\b\b\b\b\b\n",
      "Epoch 15/20\n",
      "18/18 [==============================] - 0s 3ms/step - loss: 0.2060 - acc: 0.0000e+00\b\b\b\b\b\b\b\b\b\b\b\b\b\b\b\b\b\b\b\b\b\b\b\b\b\b\b\b\b\b\b\b\b\b\b\b\b\b\b\b\b\b\b\b\b\b\b\b\b\b\b\b\b\b\b\b\b\b\b\b\b\b\b\b\b\b\b\b\b\b\b\b\b\b\b\b\b\n",
      "Epoch 16/20\n",
      "18/18 [==============================] - 0s 3ms/step - loss: 0.1746 - acc: 0.0000e+00\b\b\b\b\b\b\b\b\b\b\b\b\b\b\b\b\b\b\b\b\b\b\b\b\b\b\b\b\b\b\b\b\b\b\b\b\b\b\b\b\b\b\b\b\b\b\b\b\b\b\b\b\b\b\b\b\b\b\b\b\b\b\b\b\b\b\b\b\b\b\b\b\b\b\b\b\b\n",
      "Epoch 17/20\n",
      "18/18 [==============================] - 0s 3ms/step - loss: 0.1552 - acc: 0.0000e+00\b\b\b\b\b\b\b\b\b\b\b\b\b\b\b\b\b\b\b\b\b\b\b\b\b\b\b\b\b\b\b\b\b\b\b\b\b\b\b\b\b\b\b\b\b\b\b\b\b\b\b\b\b\b\b\b\b\b\b\b\b\b\b\b\b\b\b\b\b\b\b\b\b\b\b\b\b\b\b\b\b\b\b\b\b\b\b\b\b\b\b\b\b\b\b\b\b\b\b\b\b\b\b\b\b\b\b\b\b\b\b\b\b\b\b\b\b\b\b\b\b\b\b\b\b\b\b\b\b\b\b\b\b\b\b\b\b\b\b\b\b\b\b\b\b\b\b\b\b\b\b\b\b\b\b\b\b\b\n",
      "Epoch 18/20\n",
      "18/18 [==============================] - 0s 3ms/step - loss: 0.1935 - acc: 0.0000e+00\b\b\b\b\b\b\b\b\b\b\b\b\b\b\b\b\b\b\b\b\b\b\b\b\b\b\b\b\b\b\b\b\b\b\b\b\b\b\b\b\b\b\b\b\b\b\b\b\b\b\b\b\b\b\b\b\b\b\b\b\b\b\b\b\b\b\b\b\b\b\b\b\b\b\b\b\b\n",
      "Epoch 19/20\n",
      "18/18 [==============================] - 0s 3ms/step - loss: 0.2261 - acc: 0.0000e+00\b\b\b\b\b\b\b\b\b\b\b\b\b\b\b\b\b\b\b\b\b\b\b\b\b\b\b\b\b\b\b\b\b\b\b\b\b\b\b\b\b\b\b\b\b\b\b\b\b\b\b\b\b\b\b\b\b\b\b\b\b\b\b\b\b\b\b\b\b\b\b\b\b\b\b\b\b\n",
      "Epoch 20/20\n",
      "18/18 [==============================] - 0s 3ms/step - loss: 0.1480 - acc: 0.0000e+00\b\b\b\b\b\b\b\b\b\b\b\b\b\b\b\b\b\b\b\b\b\b\b\b\b\b\b\b\b\b\b\b\b\b\b\b\b\b\b\b\b\b\b\b\b\b\b\b\b\b\b\b\b\b\b\b\b\b\b\b\b\b\b\b\b\b\b\b\b\b\b\b\b\b\b\b\b\n"
     ]
    }
   ],
   "source": [
    "batch_size_train = 32\n",
    "steps = (len(y_train) - len_x) // batch_size_train\n",
    "\n",
    "model.compile(optimizer=RMSprop(lr=1e-4), loss='mae', metrics=['acc'])\n",
    "history = model.fit_generator(generator=data.generator_1d_train(y_train_norm, len_x, batch_size_train),\n",
    "                              steps_per_epoch=steps, shuffle=False, verbose=1,\n",
    "                              epochs=20)"
   ]
  },
  {
   "cell_type": "markdown",
   "metadata": {},
   "source": [
    "### Predicting"
   ]
  },
  {
   "cell_type": "code",
   "execution_count": 15,
   "metadata": {
    "collapsed": false
   },
   "outputs": [
    {
     "name": "stdout",
     "output_type": "stream",
     "text": [
      "0\n",
      "10\n",
      "20\n",
      "30\n",
      "40\n",
      "50\n",
      "60\n",
      "70\n",
      "80\n",
      "90\n",
      "100\n",
      "110\n",
      "120\n",
      "130\n",
      "140\n",
      "150\n",
      "160\n",
      "170\n",
      "180\n",
      "190\n",
      "200\n",
      "210\n",
      "220\n",
      "230\n",
      "240\n",
      "250\n",
      "260\n",
      "270\n",
      "280\n",
      "290\n",
      "300\n",
      "310\n",
      "320\n",
      "330\n",
      "340\n",
      "350\n",
      "360\n",
      "370\n",
      "380\n",
      "390\n",
      "400\n",
      "410\n",
      "420\n",
      "430\n",
      "440\n",
      "450\n",
      "460\n",
      "470\n",
      "480\n",
      "490\n",
      "500\n",
      "510\n",
      "520\n"
     ]
    }
   ],
   "source": [
    "preds = []\n",
    "for i in range(len(y_test) - len_x):\n",
    "#for i in range(100):\n",
    "    if i%10 == 0:\n",
    "        print(i)\n",
    "    pred = model.predict_generator(\n",
    "                            generator=data.generator_1d_test(y_test[i:], \n",
    "                            len_x, batch_size=1), steps=1)\n",
    "    preds.append(data.denorm(pred[0]))\n",
    "    \n",
    "    '''incremental learning'''\n",
    "    if i == 0:\n",
    "        y_train = np.concatenate((y_train, y_test[:len_x + 1]), axis=0)\n",
    "    else:\n",
    "        y_train = np.append(y_train, [y_test[len_x + i]])\n",
    "    y_train_norm = data.norm(y_train)\n",
    "    \n",
    "    steps = (len(y_train) - len_x) // batch_size_train\n",
    "    history = model.fit_generator(\n",
    "                generator=data.generator_1d_train(y_train_norm, len_x, batch_size_train), \n",
    "                steps_per_epoch=steps, shuffle=False, verbose=0, epochs=20)"
   ]
  },
  {
   "cell_type": "code",
   "execution_count": 16,
   "metadata": {
    "collapsed": false
   },
   "outputs": [
    {
     "data": {
      "text/plain": [
       "[<matplotlib.lines.Line2D at 0x26db9a59518>]"
      ]
     },
     "execution_count": 16,
     "metadata": {},
     "output_type": "execute_result"
    },
    {
     "data": {
      "image/png": "[encoded data removed]",
      "text/plain": [
       "<matplotlib.figure.Figure at 0x26db7713240>"
      ]
     },
     "metadata": {},
     "output_type": "display_data"
    }
   ],
   "source": [
    "#preds\n",
    "plt.plot(preds)\n",
    "plt.plot(y_test[-512:])"
   ]
  },
  {
   "cell_type": "markdown",
   "metadata": {},
   "source": [
    "# data normalization\n",
    "# online learning"
   ]
  },
  {
   "cell_type": "code",
   "execution_count": null,
   "metadata": {
    "collapsed": true
   },
   "outputs": [],
   "source": []
  }
 ],
 "metadata": {
  "kernelspec": {
   "display_name": "Python 3",
   "language": "python",
   "name": "python3"
  },
  "language_info": {
   "codemirror_mode": {
    "name": "ipython",
    "version": 3
   },
   "file_extension": ".py",
   "mimetype": "text/x-python",
   "name": "python",
   "nbconvert_exporter": "python",
   "pygments_lexer": "ipython3",
   "version": "3.6.0"
  }
 },
 "nbformat": 4,
 "nbformat_minor": 2
}
